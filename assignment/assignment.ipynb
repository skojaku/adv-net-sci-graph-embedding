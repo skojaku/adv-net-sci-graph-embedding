{
 "cells": [
  {
   "cell_type": "markdown",
   "id": "1410950d",
   "metadata": {},
   "source": [
    "# Assignment\n",
    "\n",
    "In this assignment, we will <TODO: describe the assignment>\n",
    "\n",
    "Complete the following tasks and upload your notebook to your GitHub repository.\n",
    "\n",
    "1. Fill in the black functions, marked by, \"\\#TODO\", in the notebook\n",
    "2. Update this notebook by using `git add`, `git commit`, and then `git push`.\n",
    "3. The notebook will be automatically graded, and your score will be shown on GitHub. See [how to check the results on GitHub](https://docs.github.com/en/education/manage-coursework-with-github-classroom/learn-with-github-classroom/view-autograding-results)\n",
    "\n",
    "Dont's:\n",
    "- Do not import any libraries except for the ones that are already imported. The grading script will not work if you import additional libraries.\n",
    "- Do not change the name of the functions. The grading script will not work if you change the name of the functions.\n",
    "- DO not remove the cells with tag \"gradable\". If you happen to remove the cells with tag \"gradable\", recreate the cell and add the tag \"gradable\" to the cell.\n",
    "\n",
    "Do's:\n",
    "- Make the code clearn and easy to understand. Consider using linters & formatters such as `black`. [Youtube: Linters and fixers: never worry about code formatting again (Vim + Ale + Flake8 & Black for Python) by Yong-Yeol Ahn](https://www.youtube.com/watch?v=4FKPySR6HLk)\n",
    "- You can add additional cells as you like. If you want to include the additional cells in the grading, you need to add the tag \"gradable\" to the cell. Otherwise, your additional cells will be stripped out when grading. "
   ]
  },
  {
   "cell_type": "code",
   "execution_count": null,
   "id": "11da5289",
   "metadata": {},
   "outputs": [],
   "source": [
    "# All cells without the tag \"gradable\" will be stripped out when grading.\n",
    "a = 1"
   ]
  },
  {
   "cell_type": "markdown",
   "id": "98a9f927",
   "metadata": {},
   "source": [
    "The size of the networks:"
   ]
  },
  {
   "cell_type": "code",
   "execution_count": null,
   "id": "9082740b",
   "metadata": {
    "tags": [
     "gradable"
    ]
   },
   "outputs": [],
   "source": [
    "#TODO\n",
    "def func(g):\n",
    "    \"\"\"\n",
    "    TODO: Write a function that returns the number of nodes and edges in the graph.\n",
    "    \"\"\"\n",
    "    pass"
   ]
  }
 ],
 "metadata": {
  "kernelspec": {
   "display_name": "Python 3",
   "language": "python",
   "name": "python3"
  }
 },
 "nbformat": 4,
 "nbformat_minor": 5
}
